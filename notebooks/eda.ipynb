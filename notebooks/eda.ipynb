{
 "cells": [
  {
   "cell_type": "code",
   "execution_count": null,
   "id": "f0bcfb0e",
   "metadata": {},
   "outputs": [],
   "source": [
    "# self paced learning \n",
    "import pandas as pd \n",
    "\n",
    "\n",
    "df = pd.read_csv('../data/Flight_Delays_2024.csv')\n",
    "\n",
    "print(\"first 5 rows of this dataset: \")\n",
    "print(df.head())\n",
    "\n",
    "print(\"\\n This is the shape of this dataset: \"+ \"=\"*20)\n",
    "print (df.shape)\n",
    "print(\"\\n This is the distribution of this dataset: \"+ \"=\"*20)\n",
    "print(df.info()) \n",
    "print(\"\\n Some descriptive statistics that could be used: \" + \"+\"*20)\n",
    "print(df.describe())\n",
    "\n",
    "\n",
    "print(\"\\n checking for null or missing values: \")\n",
    "print(df.isnull().sum())\n",
    "\n",
    "print(\"\\n checking for categorical values: \")\n",
    "print(df['Airline'].value_counts())\n",
    "print(df['DelayCategory'].value_counts())"
   ]
  },
  {
   "cell_type": "code",
   "execution_count": null,
   "id": "e99c10ed",
   "metadata": {},
   "outputs": [],
   "source": [
    "# handling missing values \n",
    "# 1 check for missing vaulues \n",
    "print(df.isnull().sum()) \n",
    "\n",
    "# we have 2 cases: -1, remove them ; -2 fill them by using imputation (fill missing values by mean, median or mode of that column)\n",
    "# if there is, in our case we dont have them, but if we had them, \n",
    "\n",
    "# we can 1: drop them, then check the new shape of the cleaned dataframe: \n",
    "df_cleaned= df.dropna() \n",
    "\n",
    "print(\"\\nnew shape of dataframe after dropping missing values: \")\n",
    "print(df_cleaned.shape)\n",
    "\n",
    "print(df['DelayMinutes'].skew())\n",
    "print(df['DelayMinutes'].kurtosis())\n"
   ]
  },
  {
   "cell_type": "code",
   "execution_count": null,
   "id": "b9647963",
   "metadata": {},
   "outputs": [],
   "source": [
    "# visualisation and ploting \n",
    "import matplotlib.pyplot as plt\n",
    "import seaborn as sns\n",
    "\n",
    "sns.set_style('ticks')\n",
    "sns.histplot(data=df, x='DelayMinutes', kde=True)\n",
    "plt.title('Distribution of Flight Delay Minutes')\n",
    "plt.show()\n",
    "\n",
    "sns.set_style('ticks')\n",
    "sns.boxplot(data=df, x='DelayMinutes')\n",
    "plt.title('Boxplot of Flight Delay Minutes')\n",
    "plt.show()\n",
    "\n",
    "sns.set_style('darkgrid')\n",
    "sns.countplot(data=df, x='DelayCategory')\n",
    "plt.xticks(rotation=45)\n",
    "plt.title('Count of Delay Categories')\n",
    "plt.show()"
   ]
  },
  {
   "cell_type": "code",
   "execution_count": null,
   "id": "3aba50a1",
   "metadata": {},
   "outputs": [],
   "source": [
    "import matplotlib.pyplot as plt\n",
    "import seaborn as sns\n",
    "\n",
    "# Create a boxplot to compare delay distributions across airlines\n",
    "plt.figure(figsize=(12, 6)) # Make the plot wider to fit airline names\n",
    "sns.boxplot(data=df, x='Airline', y='DelayMinutes')\n",
    "plt.title('Flight Delay Distribution by Airline')\n",
    "plt.xticks(rotation=45) # Rotate names if they overlap\n",
    "plt.show()"
   ]
  },
  {
   "cell_type": "code",
   "execution_count": null,
   "id": "066da640",
   "metadata": {},
   "outputs": [],
   "source": [
    "import matplotlib.pyplot as plt\n",
    "import seaborn as sns\n",
    "# Create a bar plot to show average delay by day of the week\n",
    "plt.figure(figsize=(10, 6))\n",
    "sns.barplot(data=df, x='DayOfWeek', y='DelayMinutes', order=['Monday', 'Tuesday', 'Wednesday', 'Thursday', 'Friday', 'Saturday', 'Sunday'])\n",
    "plt.title('Average Flight Delay by Day of the Week')\n",
    "plt.show()\n"
   ]
  },
  {
   "cell_type": "code",
   "execution_count": null,
   "id": "1e8672e8",
   "metadata": {},
   "outputs": [],
   "source": [
    "import matplotlib.pyplot as plt\n",
    "import seaborn as sns\n",
    "\n",
    "# Create a scatter plot to see the relationship between distance and delay\n",
    "plt.figure(figsize=(10, 6))\n",
    "sns.scatterplot(data=df, x='FlightDistanceKM', y='DelayMinutes')\n",
    "plt.title('Flight Delay vs. Flight Distance')\n",
    "plt.show()"
   ]
  },
  {
   "cell_type": "code",
   "execution_count": null,
   "id": "acfebac7",
   "metadata": {},
   "outputs": [],
   "source": [
    "import matplotlib.pyplot as plt\n",
    "import seaborn as sns\n",
    "plt.figure(figsize=(12, 8))\n",
    "sns.boxplot(data=df, x='DelayMinutes', y='Origin')\n",
    "plt.title('Boxplot of Flight Delay Minutes by Origin Airport')\n",
    "plt.xticks(rotation=45)\n",
    "plt.show()"
   ]
  },
  {
   "cell_type": "code",
   "execution_count": null,
   "id": "54d8c279",
   "metadata": {},
   "outputs": [],
   "source": [
    "import pandas as pd\n",
    "import matplotlib.pyplot as plt\n",
    "import seaborn as sns\n",
    "\n",
    "# 1 we create crosstab then we do heatmap \n",
    "# withcrosstab we keep occurence of each combination \n",
    "airline_category_crosstab= pd.crosstab(df['Airline'], df['DelayCategory'])\n",
    "print(\"the occurrence of each combination is: \")\n",
    "print(airline_category_crosstab)\n",
    "\n",
    "plt.figure(figsize=(10, 6))\n",
    "sns.heatmap(airline_category_crosstab, annot=True, fmt='d', cmap='YlGnBu')\n",
    "plt.title('Heatmap of Airline vs Delay Category')\n",
    "plt.xlabel('Delay Category')\n",
    "plt.ylabel('Airline')   \n",
    "plt.show()\n"
   ]
  },
  {
   "cell_type": "code",
   "execution_count": null,
   "id": "4baa06a8",
   "metadata": {},
   "outputs": [],
   "source": [
    "# Create a bar plot of DayOfWeek vs. DelayMinutes but add hue='Airline'\n",
    "import pandas as pd\n",
    "\n",
    "df['isWeekend']= df['DayOfWeek'].apply(lambda day: 1 if day in ['Saturday', 'Sunday'] else 0)\n",
    "print(df[['DayOfWeek', 'isWeekend']].head())\n",
    "print(df['isWeekend'].value_counts())"
   ]
  },
  {
   "cell_type": "code",
   "execution_count": null,
   "id": "4707ce7c",
   "metadata": {},
   "outputs": [],
   "source": [
    "import pandas as pd\n",
    "\n",
    "df['IsWeekend']= df['DayOfWeek'].isin(['Saturday', 'Sunday']).astype(int)\n",
    "print(df[['DayOfWeek', 'IsWeekend']].head())\n",
    "print(df['IsWeekend'].value_counts())"
   ]
  },
  {
   "cell_type": "code",
   "execution_count": null,
   "id": "a4ba8c1e",
   "metadata": {},
   "outputs": [],
   "source": [
    "import matplotlib.pyplot as plt\n",
    "import seaborn as sns\n",
    "\n",
    "plt.figure(figsize=(12,8))\n",
    "sns.boxplot(data=df, x='Airline', y='DelayMinutes', hue='IsWeekend', dodge=True)\n",
    "plt.title('Boxplot of Delay Minutes by Airline and Weekend Status')\n",
    "plt.xticks(rotation=45)\n",
    "plt.show()"
   ]
  }
 ],
 "metadata": {
  "kernelspec": {
   "display_name": "Python (engahmad)",
   "language": "python",
   "name": "engahmad"
  },
  "language_info": {
   "codemirror_mode": {
    "name": "ipython",
    "version": 3
   },
   "file_extension": ".py",
   "mimetype": "text/x-python",
   "name": "python",
   "nbconvert_exporter": "python",
   "pygments_lexer": "ipython3",
   "version": "3.12.9"
  }
 },
 "nbformat": 4,
 "nbformat_minor": 5
}
