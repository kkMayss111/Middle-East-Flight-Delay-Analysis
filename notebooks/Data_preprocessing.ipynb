{
 "cells": [
  {
   "cell_type": "code",
   "execution_count": null,
   "id": "2c583193",
   "metadata": {},
   "outputs": [],
   "source": [
    "import pandas as pd\n",
    "\n",
    "df= pd.read_csv('../data/Flight_Delays_2024.csv')\n",
    "print(\"SHape of dataframe: \", df.shape)\n",
    "print(df.head())\n",
    "\n",
    "df_columns= df.columns\n",
    "print(\"Columns in dataframe: \", df_columns)\n",
    "\n",
    "# we want to one hot encode all categorical variable using pd.getdummies()\n",
    "\n",
    "catgeorical_columns =['Airline', 'Origin', 'Destination' ,'Month' ,'DayOfWeek' ,'DelayCategory' ]\n",
    "df_encoded =pd.get_dummies(df, columns=catgeorical_columns, drop_first=True)\n",
    "print(\"one hot encoded datafram: \", df_encoded.columns)\n",
    "\n",
    "print(df_encoded.head())"
   ]
  },
  {
   "cell_type": "code",
   "execution_count": null,
   "id": "d6fb2c3f",
   "metadata": {},
   "outputs": [],
   "source": [
    "import pandas as pd\n",
    "from sklearn.discriminant_analysis import StandardScaler\n",
    "# from  sklearn.preprocessing import standardscaler\n",
    "\n",
    "cols_to_scale= ['DelayMinutes', 'FlightDistanceKM']\n",
    "scaler= StandardScaler()\n",
    "df_encoded[cols_to_scale]= scaler.fit_transform(df_encoded[cols_to_scale])\n",
    "print(\"scaled dataframe: \")\n",
    "print(df_encoded.head())\n",
    "print(\"\\nMean of scaled columns:\")\n",
    "print(df_encoded[cols_to_scale].mean())\n",
    "print(\"\\nStandard Deviation of scaled columns:\")\n",
    "print(df_encoded[cols_to_scale].std())"
   ]
  }
 ],
 "metadata": {
  "kernelspec": {
   "display_name": "Python (engahmad)",
   "language": "python",
   "name": "engahmad"
  },
  "language_info": {
   "codemirror_mode": {
    "name": "ipython",
    "version": 3
   },
   "file_extension": ".py",
   "mimetype": "text/x-python",
   "name": "python",
   "nbconvert_exporter": "python",
   "pygments_lexer": "ipython3",
   "version": "3.12.9"
  }
 },
 "nbformat": 4,
 "nbformat_minor": 5
}
